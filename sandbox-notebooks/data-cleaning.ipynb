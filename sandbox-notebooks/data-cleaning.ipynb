{
 "cells": [
  {
   "cell_type": "code",
   "execution_count": 1,
   "metadata": {},
   "outputs": [],
   "source": [
    "import pandas as pd"
   ]
  },
  {
   "cell_type": "code",
   "execution_count": null,
   "metadata": {},
   "outputs": [],
   "source": [
    "csv_path = '../raw-data-csvs/'\n",
    "activity_csv_name = 'activity.csv'\n",
    "activity_df = pd.read_csv(csv_path + activity_csv_name)"
   ]
  },
  {
   "cell_type": "code",
   "execution_count": 6,
   "metadata": {},
   "outputs": [
    {
     "data": {
      "text/plain": [
       "(2176168, 4)"
      ]
     },
     "execution_count": 6,
     "metadata": {},
     "output_type": "execute_result"
    }
   ],
   "source": [
    "activity_df.shape"
   ]
  },
  {
   "cell_type": "code",
   "execution_count": 21,
   "metadata": {},
   "outputs": [],
   "source": [
    "def get_first_last_dates(df):\n",
    "    # Convert 'from_date' and 'to_date' to datetime if they're not already\n",
    "    df['from_date'] = pd.to_datetime(df['from_date'])\n",
    "    df['to_date'] = pd.to_datetime(df['to_date'])\n",
    "    \n",
    "    # Group by customer_id and subscription_id, then aggregate the first from_date and last to_date\n",
    "    result_df = df.groupby(['customer_id', 'subscription_id'], as_index=False).agg(\n",
    "        from_date=('from_date', 'min'),\n",
    "        to_date=('to_date', 'max')\n",
    "    )\n",
    "    \n",
    "    return result_df\n",
    "\n",
    "def get_latest_subscription(df):\n",
    "    # Convert 'from_date' and 'to_date' to datetime if they are not already\n",
    "    df['from_date'] = pd.to_datetime(df['from_date'])\n",
    "    df['to_date'] = pd.to_datetime(df['to_date'])\n",
    "    \n",
    "    # Sort by subscription_id to ensure we get the latest one\n",
    "    df = df.sort_values('subscription_id', ascending=False)\n",
    "    \n",
    "    # Group by customer_id, from_date, and to_date and drop duplicates, keeping the latest subscription\n",
    "    df = df.drop_duplicates(subset=['customer_id', 'from_date', 'to_date'], keep='first')\n",
    "    \n",
    "    return df"
   ]
  },
  {
   "cell_type": "code",
   "execution_count": 22,
   "metadata": {},
   "outputs": [],
   "source": [
    "activity_clean_1_df = get_first_last_dates(activity_df)"
   ]
  },
  {
   "cell_type": "code",
   "execution_count": 23,
   "metadata": {},
   "outputs": [
    {
     "data": {
      "text/plain": [
       "(1482002, 4)"
      ]
     },
     "execution_count": 23,
     "metadata": {},
     "output_type": "execute_result"
    }
   ],
   "source": [
    "activity_clean_1_df.shape"
   ]
  },
  {
   "cell_type": "code",
   "execution_count": 24,
   "metadata": {},
   "outputs": [
    {
     "data": {
      "text/html": [
       "<div>\n",
       "<style scoped>\n",
       "    .dataframe tbody tr th:only-of-type {\n",
       "        vertical-align: middle;\n",
       "    }\n",
       "\n",
       "    .dataframe tbody tr th {\n",
       "        vertical-align: top;\n",
       "    }\n",
       "\n",
       "    .dataframe thead th {\n",
       "        text-align: right;\n",
       "    }\n",
       "</style>\n",
       "<table border=\"1\" class=\"dataframe\">\n",
       "  <thead>\n",
       "    <tr style=\"text-align: right;\">\n",
       "      <th></th>\n",
       "      <th>customer_id</th>\n",
       "      <th>subscription_id</th>\n",
       "      <th>from_date</th>\n",
       "      <th>to_date</th>\n",
       "    </tr>\n",
       "  </thead>\n",
       "  <tbody>\n",
       "    <tr>\n",
       "      <th>0</th>\n",
       "      <td>1</td>\n",
       "      <td>1</td>\n",
       "      <td>2019-01-04</td>\n",
       "      <td>2019-02-12</td>\n",
       "    </tr>\n",
       "    <tr>\n",
       "      <th>1</th>\n",
       "      <td>1</td>\n",
       "      <td>10016</td>\n",
       "      <td>2019-05-31</td>\n",
       "      <td>2019-05-31</td>\n",
       "    </tr>\n",
       "    <tr>\n",
       "      <th>2</th>\n",
       "      <td>1</td>\n",
       "      <td>13350</td>\n",
       "      <td>2019-06-17</td>\n",
       "      <td>2019-06-17</td>\n",
       "    </tr>\n",
       "    <tr>\n",
       "      <th>3</th>\n",
       "      <td>1</td>\n",
       "      <td>13524</td>\n",
       "      <td>2019-08-20</td>\n",
       "      <td>2019-08-22</td>\n",
       "    </tr>\n",
       "    <tr>\n",
       "      <th>4</th>\n",
       "      <td>1</td>\n",
       "      <td>28108</td>\n",
       "      <td>2020-01-29</td>\n",
       "      <td>2020-01-29</td>\n",
       "    </tr>\n",
       "  </tbody>\n",
       "</table>\n",
       "</div>"
      ],
      "text/plain": [
       "   customer_id  subscription_id  from_date    to_date\n",
       "0            1                1 2019-01-04 2019-02-12\n",
       "1            1            10016 2019-05-31 2019-05-31\n",
       "2            1            13350 2019-06-17 2019-06-17\n",
       "3            1            13524 2019-08-20 2019-08-22\n",
       "4            1            28108 2020-01-29 2020-01-29"
      ]
     },
     "execution_count": 24,
     "metadata": {},
     "output_type": "execute_result"
    }
   ],
   "source": [
    "activity_clean_1_df.head()"
   ]
  },
  {
   "cell_type": "code",
   "execution_count": 25,
   "metadata": {},
   "outputs": [],
   "source": [
    "activity_clean_2_df = get_latest_subscription(activity_clean_1_df)"
   ]
  },
  {
   "cell_type": "code",
   "execution_count": 26,
   "metadata": {},
   "outputs": [
    {
     "data": {
      "text/plain": [
       "(808850, 4)"
      ]
     },
     "execution_count": 26,
     "metadata": {},
     "output_type": "execute_result"
    }
   ],
   "source": [
    "activity_clean_2_df.shape"
   ]
  },
  {
   "cell_type": "code",
   "execution_count": 27,
   "metadata": {},
   "outputs": [
    {
     "data": {
      "text/html": [
       "<div>\n",
       "<style scoped>\n",
       "    .dataframe tbody tr th:only-of-type {\n",
       "        vertical-align: middle;\n",
       "    }\n",
       "\n",
       "    .dataframe tbody tr th {\n",
       "        vertical-align: top;\n",
       "    }\n",
       "\n",
       "    .dataframe thead th {\n",
       "        text-align: right;\n",
       "    }\n",
       "</style>\n",
       "<table border=\"1\" class=\"dataframe\">\n",
       "  <thead>\n",
       "    <tr style=\"text-align: right;\">\n",
       "      <th></th>\n",
       "      <th>customer_id</th>\n",
       "      <th>subscription_id</th>\n",
       "      <th>from_date</th>\n",
       "      <th>to_date</th>\n",
       "    </tr>\n",
       "  </thead>\n",
       "  <tbody>\n",
       "    <tr>\n",
       "      <th>60107</th>\n",
       "      <td>55798</td>\n",
       "      <td>73713</td>\n",
       "      <td>2021-01-29</td>\n",
       "      <td>2021-02-21</td>\n",
       "    </tr>\n",
       "  </tbody>\n",
       "</table>\n",
       "</div>"
      ],
      "text/plain": [
       "       customer_id  subscription_id  from_date    to_date\n",
       "60107        55798            73713 2021-01-29 2021-02-21"
      ]
     },
     "execution_count": 27,
     "metadata": {},
     "output_type": "execute_result"
    }
   ],
   "source": [
    "activity_clean_2_df[(activity_clean_2_df['customer_id'] == 55798) & (activity_clean_2_df['from_date'] == '2021-01-29')]"
   ]
  },
  {
   "cell_type": "code",
   "execution_count": 28,
   "metadata": {},
   "outputs": [
    {
     "data": {
      "text/html": [
       "<div>\n",
       "<style scoped>\n",
       "    .dataframe tbody tr th:only-of-type {\n",
       "        vertical-align: middle;\n",
       "    }\n",
       "\n",
       "    .dataframe tbody tr th {\n",
       "        vertical-align: top;\n",
       "    }\n",
       "\n",
       "    .dataframe thead th {\n",
       "        text-align: right;\n",
       "    }\n",
       "</style>\n",
       "<table border=\"1\" class=\"dataframe\">\n",
       "  <thead>\n",
       "    <tr style=\"text-align: right;\">\n",
       "      <th></th>\n",
       "      <th>customer_id</th>\n",
       "      <th>subscription_id</th>\n",
       "      <th>from_date</th>\n",
       "      <th>to_date</th>\n",
       "    </tr>\n",
       "  </thead>\n",
       "  <tbody>\n",
       "    <tr>\n",
       "      <th>60165</th>\n",
       "      <td>55798</td>\n",
       "      <td>1117094</td>\n",
       "      <td>2023-10-31</td>\n",
       "      <td>2023-11-08</td>\n",
       "    </tr>\n",
       "    <tr>\n",
       "      <th>60162</th>\n",
       "      <td>55798</td>\n",
       "      <td>1063251</td>\n",
       "      <td>2023-09-29</td>\n",
       "      <td>2023-10-10</td>\n",
       "    </tr>\n",
       "    <tr>\n",
       "      <th>60159</th>\n",
       "      <td>55798</td>\n",
       "      <td>1012049</td>\n",
       "      <td>2023-08-31</td>\n",
       "      <td>2023-09-01</td>\n",
       "    </tr>\n",
       "    <tr>\n",
       "      <th>60156</th>\n",
       "      <td>55798</td>\n",
       "      <td>961790</td>\n",
       "      <td>2023-07-31</td>\n",
       "      <td>2023-08-08</td>\n",
       "    </tr>\n",
       "    <tr>\n",
       "      <th>60153</th>\n",
       "      <td>55798</td>\n",
       "      <td>861860</td>\n",
       "      <td>2023-05-31</td>\n",
       "      <td>2023-07-01</td>\n",
       "    </tr>\n",
       "    <tr>\n",
       "      <th>60150</th>\n",
       "      <td>55798</td>\n",
       "      <td>817475</td>\n",
       "      <td>2023-04-29</td>\n",
       "      <td>2023-05-17</td>\n",
       "    </tr>\n",
       "    <tr>\n",
       "      <th>60147</th>\n",
       "      <td>55798</td>\n",
       "      <td>778875</td>\n",
       "      <td>2023-03-31</td>\n",
       "      <td>2023-04-12</td>\n",
       "    </tr>\n",
       "    <tr>\n",
       "      <th>60144</th>\n",
       "      <td>55798</td>\n",
       "      <td>735053</td>\n",
       "      <td>2023-03-01</td>\n",
       "      <td>2023-03-26</td>\n",
       "    </tr>\n",
       "    <tr>\n",
       "      <th>60141</th>\n",
       "      <td>55798</td>\n",
       "      <td>699871</td>\n",
       "      <td>2023-02-01</td>\n",
       "      <td>2023-02-16</td>\n",
       "    </tr>\n",
       "    <tr>\n",
       "      <th>60138</th>\n",
       "      <td>55798</td>\n",
       "      <td>657798</td>\n",
       "      <td>2022-12-30</td>\n",
       "      <td>2023-01-24</td>\n",
       "    </tr>\n",
       "    <tr>\n",
       "      <th>60135</th>\n",
       "      <td>55798</td>\n",
       "      <td>624873</td>\n",
       "      <td>2022-12-01</td>\n",
       "      <td>2022-12-17</td>\n",
       "    </tr>\n",
       "    <tr>\n",
       "      <th>60132</th>\n",
       "      <td>55798</td>\n",
       "      <td>585018</td>\n",
       "      <td>2022-10-29</td>\n",
       "      <td>2022-11-23</td>\n",
       "    </tr>\n",
       "    <tr>\n",
       "      <th>60129</th>\n",
       "      <td>55798</td>\n",
       "      <td>550077</td>\n",
       "      <td>2022-10-01</td>\n",
       "      <td>2022-10-25</td>\n",
       "    </tr>\n",
       "    <tr>\n",
       "      <th>60126</th>\n",
       "      <td>55798</td>\n",
       "      <td>507271</td>\n",
       "      <td>2022-08-29</td>\n",
       "      <td>2022-09-17</td>\n",
       "    </tr>\n",
       "    <tr>\n",
       "      <th>60123</th>\n",
       "      <td>55798</td>\n",
       "      <td>407595</td>\n",
       "      <td>2022-05-31</td>\n",
       "      <td>2022-08-10</td>\n",
       "    </tr>\n",
       "    <tr>\n",
       "      <th>60120</th>\n",
       "      <td>55798</td>\n",
       "      <td>316299</td>\n",
       "      <td>2022-03-01</td>\n",
       "      <td>2022-04-10</td>\n",
       "    </tr>\n",
       "    <tr>\n",
       "      <th>60118</th>\n",
       "      <td>55798</td>\n",
       "      <td>239960</td>\n",
       "      <td>2021-11-30</td>\n",
       "      <td>2022-02-19</td>\n",
       "    </tr>\n",
       "    <tr>\n",
       "      <th>60116</th>\n",
       "      <td>55798</td>\n",
       "      <td>174455</td>\n",
       "      <td>2021-08-28</td>\n",
       "      <td>2021-09-27</td>\n",
       "    </tr>\n",
       "    <tr>\n",
       "      <th>60115</th>\n",
       "      <td>55798</td>\n",
       "      <td>174454</td>\n",
       "      <td>2021-08-28</td>\n",
       "      <td>2021-09-28</td>\n",
       "    </tr>\n",
       "    <tr>\n",
       "      <th>60113</th>\n",
       "      <td>55798</td>\n",
       "      <td>118330</td>\n",
       "      <td>2021-05-28</td>\n",
       "      <td>2021-08-04</td>\n",
       "    </tr>\n",
       "    <tr>\n",
       "      <th>60110</th>\n",
       "      <td>55798</td>\n",
       "      <td>82603</td>\n",
       "      <td>2021-02-26</td>\n",
       "      <td>2021-05-01</td>\n",
       "    </tr>\n",
       "    <tr>\n",
       "      <th>60107</th>\n",
       "      <td>55798</td>\n",
       "      <td>73713</td>\n",
       "      <td>2021-01-29</td>\n",
       "      <td>2021-02-21</td>\n",
       "    </tr>\n",
       "    <tr>\n",
       "      <th>60104</th>\n",
       "      <td>55798</td>\n",
       "      <td>66340</td>\n",
       "      <td>2020-12-30</td>\n",
       "      <td>2021-01-22</td>\n",
       "    </tr>\n",
       "    <tr>\n",
       "      <th>60102</th>\n",
       "      <td>55798</td>\n",
       "      <td>50221</td>\n",
       "      <td>2020-09-30</td>\n",
       "      <td>2020-12-21</td>\n",
       "    </tr>\n",
       "    <tr>\n",
       "      <th>60101</th>\n",
       "      <td>55798</td>\n",
       "      <td>39479</td>\n",
       "      <td>2020-06-30</td>\n",
       "      <td>2020-09-23</td>\n",
       "    </tr>\n",
       "  </tbody>\n",
       "</table>\n",
       "</div>"
      ],
      "text/plain": [
       "       customer_id  subscription_id  from_date    to_date\n",
       "60165        55798          1117094 2023-10-31 2023-11-08\n",
       "60162        55798          1063251 2023-09-29 2023-10-10\n",
       "60159        55798          1012049 2023-08-31 2023-09-01\n",
       "60156        55798           961790 2023-07-31 2023-08-08\n",
       "60153        55798           861860 2023-05-31 2023-07-01\n",
       "60150        55798           817475 2023-04-29 2023-05-17\n",
       "60147        55798           778875 2023-03-31 2023-04-12\n",
       "60144        55798           735053 2023-03-01 2023-03-26\n",
       "60141        55798           699871 2023-02-01 2023-02-16\n",
       "60138        55798           657798 2022-12-30 2023-01-24\n",
       "60135        55798           624873 2022-12-01 2022-12-17\n",
       "60132        55798           585018 2022-10-29 2022-11-23\n",
       "60129        55798           550077 2022-10-01 2022-10-25\n",
       "60126        55798           507271 2022-08-29 2022-09-17\n",
       "60123        55798           407595 2022-05-31 2022-08-10\n",
       "60120        55798           316299 2022-03-01 2022-04-10\n",
       "60118        55798           239960 2021-11-30 2022-02-19\n",
       "60116        55798           174455 2021-08-28 2021-09-27\n",
       "60115        55798           174454 2021-08-28 2021-09-28\n",
       "60113        55798           118330 2021-05-28 2021-08-04\n",
       "60110        55798            82603 2021-02-26 2021-05-01\n",
       "60107        55798            73713 2021-01-29 2021-02-21\n",
       "60104        55798            66340 2020-12-30 2021-01-22\n",
       "60102        55798            50221 2020-09-30 2020-12-21\n",
       "60101        55798            39479 2020-06-30 2020-09-23"
      ]
     },
     "execution_count": 28,
     "metadata": {},
     "output_type": "execute_result"
    }
   ],
   "source": [
    "activity_clean_2_df[(activity_clean_2_df['customer_id'] == 55798)].sort_values(by='subscription_id', ascending=False)"
   ]
  },
  {
   "cell_type": "code",
   "execution_count": null,
   "metadata": {},
   "outputs": [],
   "source": []
  }
 ],
 "metadata": {
  "kernelspec": {
   "display_name": "dbt1.9",
   "language": "python",
   "name": "python3"
  },
  "language_info": {
   "codemirror_mode": {
    "name": "ipython",
    "version": 3
   },
   "file_extension": ".py",
   "mimetype": "text/x-python",
   "name": "python",
   "nbconvert_exporter": "python",
   "pygments_lexer": "ipython3",
   "version": "3.9.13"
  }
 },
 "nbformat": 4,
 "nbformat_minor": 2
}
